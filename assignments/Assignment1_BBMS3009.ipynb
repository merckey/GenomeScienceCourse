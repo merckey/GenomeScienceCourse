{
 "cells": [
  {
   "cell_type": "markdown",
   "id": "9e0a7072",
   "metadata": {},
   "source": [
    "# Assignment 1 for Genome Science (BBMS3009)\n",
    "This assignment aims to understand the normalization of RNA-seq count data and the basics of the statistical tests behind Differential Gene expression detection.\n",
    "\n",
    "* Student Name:\n",
    "* Student ID:\n",
    "\n",
    "**Requirement and Marks**\n",
    "\n",
    "* This assignment covers 25 marks, including the completeness of whole script/notebook for 5 marks.\n",
    "* You should submit a report in PDF (or MS Word) and a generated notebook (in .html) by Knit. Please answer the questions in the report with attaching the relevant figures, and keep your added script in the notebook."
   ]
  },
  {
   "cell_type": "markdown",
   "id": "8f577003",
   "metadata": {},
   "source": [
    "**Expected running time on laptop**\n",
    "\n",
    "* `DESeq2` installation: ~10min\n",
    "* Running the whole notebook: ~5min\n",
    "* Reading and thinking may take a few hours.\n",
    "\n",
    "**Main reference**:\n",
    "\n",
    "* [Chapter 8 in Modern Statistics for Modern Biology](https://web.stanford.edu/class/bios221/book/Chap-CountData.html)\n",
    "* [Chapter 8 in Computational Genomics with R](http://compgenomr.github.io/book/rnaseqanalysis.html)\n",
    "\n",
    "## Part 0. Environment setting\n",
    "Installing the `DESeq2` package for loading data.\n",
    "\n",
    "* Think: how the package `DESeq2` is installed? Through which platform and via which package?\n",
    "* Think: what does the `if ... else` doing here?"
   ]
  },
  {
   "cell_type": "code",
   "execution_count": null,
   "id": "1e80b58d",
   "metadata": {},
   "outputs": [],
   "source": [
    "if (!requireNamespace(\"DESeq2\", quietly = TRUE)) {\n",
    "  if (!requireNamespace(\"BiocManager\", quietly = TRUE)){\n",
    "    install.packages(\"BiocManager\")\n",
    "  }\n",
    "  BiocManager::install(\"DESeq2\")\n",
    "}"
   ]
  },
  {
   "cell_type": "markdown",
   "id": "fa2ef222",
   "metadata": {},
   "source": [
    "## Part 1. Load data\n",
    "\n",
    "#### Load count matrix\n",
    "gene-by-sample, with additional column for gene length. Namely the last column is the length of the gene."
   ]
  },
  {
   "cell_type": "code",
   "execution_count": null,
   "id": "68fd3ef0",
   "metadata": {},
   "outputs": [],
   "source": [
    "counts_file <- 'SRP029880.raw_counts.tsv'\n",
    "\n",
    "counts <- as.matrix(read.csv(counts_file, header = T, sep = '\\t'))"
   ]
  },
  {
   "cell_type": "code",
   "execution_count": null,
   "id": "2aa520e5",
   "metadata": {},
   "outputs": [],
   "source": [
    "dim(counts)\n",
    "colnames(counts)"
   ]
  },
  {
   "cell_type": "code",
   "execution_count": null,
   "id": "2495edc0",
   "metadata": {},
   "outputs": [],
   "source": [
    "summary(counts[,1:3])"
   ]
  },
  {
   "cell_type": "markdown",
   "id": "febb559d",
   "metadata": {},
   "source": [
    "#### Load colData for sample information"
   ]
  },
  {
   "cell_type": "code",
   "execution_count": null,
   "id": "6f777aca",
   "metadata": {},
   "outputs": [],
   "source": [
    "col_data_file <- 'SRP029880.colData.tsv'\n",
    "\n",
    "col_data <- read.table(col_data_file, header = T, sep = '\\t', stringsAsFactors = TRUE)"
   ]
  },
  {
   "cell_type": "code",
   "execution_count": null,
   "id": "809976e2",
   "metadata": {},
   "outputs": [],
   "source": [
    "col_data"
   ]
  },
  {
   "cell_type": "markdown",
   "id": "6d5f9385",
   "metadata": {},
   "source": [
    "## 2. Normalization\n",
    "For gene length bias correction, is often included in the \"normalization\" term.\n",
    "\n",
    "### 2.1 CPM: Count per million\n",
    "Normalization to the library size"
   ]
  },
  {
   "cell_type": "code",
   "execution_count": null,
   "id": "17a2a9c7",
   "metadata": {},
   "outputs": [],
   "source": [
    "cpm <- t(t(counts[, 1:10]) / colSums(counts[, 1:10])) * 10^6"
   ]
  },
  {
   "cell_type": "code",
   "execution_count": null,
   "id": "ba5a253d",
   "metadata": {},
   "outputs": [],
   "source": [
    "head(cpm)"
   ]
  },
  {
   "cell_type": "code",
   "execution_count": null,
   "id": "ea0e06a5",
   "metadata": {},
   "outputs": [],
   "source": [
    "hist(log(cpm[, 10] + 0.1), breaks=seq(-3, 11, 0.5))"
   ]
  },
  {
   "cell_type": "markdown",
   "id": "df9eaef1",
   "metadata": {},
   "source": [
    "### 2.2 RPKM: Read per killobase per million\n",
    "Correction the gene length bias. It also often contained in the normalization term."
   ]
  },
  {
   "cell_type": "code",
   "execution_count": null,
   "id": "6a508b49",
   "metadata": {},
   "outputs": [],
   "source": [
    "geneLengths <- counts[, 11]\n",
    "head(geneLengths)"
   ]
  },
  {
   "cell_type": "markdown",
   "id": "afc0c46b",
   "metadata": {
    "lines_to_next_cell": 0
   },
   "source": [
    "<font color='red'>**Q1.1: Define RPKM in script, both in script below and in report [1 mark]**</font>"
   ]
  },
  {
   "cell_type": "code",
   "execution_count": null,
   "id": "1e948a25",
   "metadata": {},
   "outputs": [],
   "source": [
    "# Q1.1 TODO: define rpkm\n",
    "# rpkm <- PLEASE_FILL_HERE\n"
   ]
  },
  {
   "cell_type": "code",
   "execution_count": null,
   "id": "9985f0f5",
   "metadata": {},
   "outputs": [],
   "source": [
    "head(rpkm)"
   ]
  },
  {
   "cell_type": "code",
   "execution_count": null,
   "id": "3355e5f3",
   "metadata": {},
   "outputs": [],
   "source": [
    "hist(log(rpkm[, 10] + 0.1), breaks=seq(-3, 11, 0.5))"
   ]
  },
  {
   "cell_type": "markdown",
   "id": "df46eb37",
   "metadata": {
    "lines_to_next_cell": 0
   },
   "source": [
    "### 2.3 TPM: transcript per million\n",
    "<font color='red'>**Q1.2: Define TPM in script, both in script below and in report [1 mark]**</font>"
   ]
  },
  {
   "cell_type": "code",
   "execution_count": null,
   "id": "3ef1ba1a",
   "metadata": {},
   "outputs": [],
   "source": [
    "# Q1.2 TODO: define tpm\n",
    "# tpm <- PLEASE_FILL_HERE\n"
   ]
  },
  {
   "cell_type": "code",
   "execution_count": null,
   "id": "2587aa78",
   "metadata": {},
   "outputs": [],
   "source": [
    "head(tpm)"
   ]
  },
  {
   "cell_type": "markdown",
   "id": "874bae25",
   "metadata": {
    "lines_to_next_cell": 0
   },
   "source": [
    "### 2.4 Comparing RPKM and TPM\n",
    "Within one sample comparison."
   ]
  },
  {
   "cell_type": "code",
   "execution_count": null,
   "id": "654b2ae4",
   "metadata": {
    "lines_to_next_cell": 0
   },
   "outputs": [],
   "source": [
    "plot(log10(rpkm[, 10]), log10(tpm[, 10]))"
   ]
  },
  {
   "cell_type": "markdown",
   "id": "1a08fbe4",
   "metadata": {},
   "source": [
    "Think: ratio between TPM and RPKM across samples. Are they always the same for all samples? Why?"
   ]
  },
  {
   "cell_type": "code",
   "execution_count": null,
   "id": "3060f089",
   "metadata": {
    "lines_to_next_cell": 2
   },
   "outputs": [],
   "source": [
    "# remove the zero values befor checking the ratio\n",
    "idx = rowMeans(rpkm > 0) == 1\n",
    "colMeans(tpm[idx, ] / rpkm[idx, ])"
   ]
  },
  {
   "cell_type": "markdown",
   "id": "91b30d7f",
   "metadata": {},
   "source": [
    "<font color='red'>**Q1.3: Describe the relationship and difference between RPKM and TPM, both within a sample and across multiple samples? Write in report [2 marks]**</font>"
   ]
  },
  {
   "cell_type": "markdown",
   "id": "cf9e2d91",
   "metadata": {},
   "source": [
    "## 3. Differential gene expression\n",
    "\n",
    "Now, you are going to detect differential expressed genes with `DEseq2` package. We aim to provide necessary scripts, so you don't need to read the detailed documentation of this package. But still feel free to do so.\n",
    "\n",
    "* [DESeq2 package page](https://bioconductor.org/packages/release/bioc/html/DESeq2.html)\n",
    "* [DESeq2 vignettes](https://bioconductor.org/packages/release/bioc/vignettes/DESeq2/inst/doc/DESeq2.html)"
   ]
  },
  {
   "cell_type": "code",
   "execution_count": null,
   "id": "ecd6bcf0",
   "metadata": {},
   "outputs": [],
   "source": [
    "library(DESeq2)\n",
    "library(stats)\n",
    "library(ggplot2)"
   ]
  },
  {
   "cell_type": "code",
   "execution_count": null,
   "id": "25053662",
   "metadata": {},
   "outputs": [],
   "source": [
    "#define the design formula\n",
    "designFormula <- \"~ group\"\n",
    "\n",
    "#create a DESeq dataset object from the count matrix and the colData \n",
    "dds <- DESeqDataSetFromMatrix(countData = counts[, 1:10], \n",
    "                              colData = col_data, \n",
    "                              design = as.formula(designFormula))\n",
    "                              \n",
    "#print dds object to see the contents\n",
    "print(dds)"
   ]
  },
  {
   "cell_type": "code",
   "execution_count": null,
   "id": "8ef85220",
   "metadata": {},
   "outputs": [],
   "source": [
    "size_factor <- DESeq2::estimateSizeFactorsForMatrix(dds@assays@data$counts)\n",
    "total_reads <- colSums(dds@assays@data$counts)"
   ]
  },
  {
   "cell_type": "markdown",
   "id": "e60b02bd",
   "metadata": {},
   "source": [
    "<font color='red'>**Q2: Please plot the scatter plot between learned size factor and total reads. What is the relationship between the learned size factor and total reads? Please write it in report with attaching the figure [2 marks]**</font>"
   ]
  },
  {
   "cell_type": "code",
   "execution_count": null,
   "id": "1e88ba60",
   "metadata": {},
   "outputs": [],
   "source": [
    "# Q2 TODO: write script for scatter plot here, ideally with ggplot\n",
    "\n"
   ]
  },
  {
   "cell_type": "markdown",
   "id": "cfc0f58a",
   "metadata": {},
   "source": [
    "Hints: see the [Fig. 8.1](https://web.stanford.edu/class/bios221/book/Chap-CountData.html#fig:rnaseq-normalization) in the book \n",
    "[Modern Statistics for Modern Biology](https://web.stanford.edu/class/bios221/book/Chap-CountData.html)."
   ]
  },
  {
   "cell_type": "markdown",
   "id": "afb916e4",
   "metadata": {},
   "source": [
    "#### Remove lowly expressed genes\n",
    "This step can reduce the number of tests, but be careful as some informative genes may indeed have low expression\n",
    "\n",
    "Here, we only remove genes with no expression at all"
   ]
  },
  {
   "cell_type": "code",
   "execution_count": null,
   "id": "f9939f82",
   "metadata": {},
   "outputs": [],
   "source": [
    "#For each gene, we count the total number of reads for that gene in all samples \n",
    "#and remove those that don't have at least 1 read. \n",
    "\n",
    "dds <- dds[ rowSums(dds@assays@data$counts) > 1, ]\n",
    "dim(dds)"
   ]
  },
  {
   "cell_type": "code",
   "execution_count": null,
   "id": "b7c26ec7",
   "metadata": {},
   "outputs": [],
   "source": [
    "sum(rowSums(dds@assays@data$counts) > 1)"
   ]
  },
  {
   "cell_type": "markdown",
   "id": "66f3478c",
   "metadata": {},
   "source": [
    "### 3.1 Perform DE analysis"
   ]
  },
  {
   "cell_type": "code",
   "execution_count": null,
   "id": "383e8e4c",
   "metadata": {},
   "outputs": [],
   "source": [
    "dds <- DESeq(dds)"
   ]
  },
  {
   "cell_type": "code",
   "execution_count": null,
   "id": "a0e9965b",
   "metadata": {},
   "outputs": [],
   "source": [
    "#compute the contrast for the 'group' variable where 'CTRL' \n",
    "#samples are used as the control group. \n",
    "\n",
    "DEresults = results(dds, contrast = c(\"group\", 'CASE', 'CTRL'))\n",
    "\n",
    "#sort results by increasing p-value\n",
    "DEresults <- as.data.frame(DEresults[order(DEresults$pvalue), ])"
   ]
  },
  {
   "cell_type": "code",
   "execution_count": null,
   "id": "72c2e49b",
   "metadata": {},
   "outputs": [],
   "source": [
    "#shows the top results\n",
    "head(DEresults)"
   ]
  },
  {
   "cell_type": "markdown",
   "id": "5bbce185",
   "metadata": {},
   "source": [
    "#### Visualize the DE results\n",
    "plotting the MA plot"
   ]
  },
  {
   "cell_type": "code",
   "execution_count": null,
   "id": "29d02f6b",
   "metadata": {
    "lines_to_next_cell": 2
   },
   "outputs": [],
   "source": [
    "DESeq2::plotMA(object = dds, ylim = c(-5, 5))"
   ]
  },
  {
   "cell_type": "markdown",
   "id": "ca49934b",
   "metadata": {},
   "source": [
    "<font color='red'>**Q3: Plot the distribution p value below. If there is no genuine differentially expressed genes, what distribution of p values do you expected to see? Is there any range of the p value matching this expectation? Write in report with attaching the figure. [2 marks]**</font>\n",
    "\n",
    "Hints: plotting the distribution of p values with sufficient number of bins, e.g., `geom_histogram(bins = 100)`"
   ]
  },
  {
   "cell_type": "code",
   "execution_count": null,
   "id": "23f68c46",
   "metadata": {
    "lines_to_next_cell": 2
   },
   "outputs": [],
   "source": [
    "# Q3 TODO: plot the distribution of the p values, ideally with ggplot\n",
    "\n"
   ]
  },
  {
   "cell_type": "markdown",
   "id": "23605f18",
   "metadata": {},
   "source": [
    "#### Check the ajusted p values\n",
    "By default, p values are are adjusted by [Benjamini-Hochberg method, i.e., FDR](https://en.wikipedia.org/wiki/False_discovery_rate)"
   ]
  },
  {
   "cell_type": "code",
   "execution_count": null,
   "id": "8b422286",
   "metadata": {
    "lines_to_next_cell": 2
   },
   "outputs": [],
   "source": [
    "ggplot(data = DEresults, aes(x = log10(padj/pvalue))) + \n",
    "  geom_histogram(bins = 30)"
   ]
  },
  {
   "cell_type": "markdown",
   "id": "bb4fb3a3",
   "metadata": {},
   "source": [
    "### 3.2 Compare to likelihood ratio test\n",
    "In DESeq2, generalised linear model is used for DE gene detection, and there are two main tests to perform:\n",
    "1. Wald test (default): estimating the mean and variance of the effect size, and then calculate the p value by Gaussian distribution. Null hypothesis: effect size is zero\n",
    "2. Likelihood ratio test (taught in lecture): compare the likelihood ratio between two models: with vs without the candidate covariate, and then calculate the p value by Chi-square distribution. Null hypothesis: the likelihood between these two model are the same (or not very different)."
   ]
  },
  {
   "cell_type": "code",
   "execution_count": null,
   "id": "0b5accce",
   "metadata": {},
   "outputs": [],
   "source": [
    "# fit the likelihood ratio test by specifying the null hypothesis with the reduced model\n",
    "dds_LRT <- nbinomLRT(dds, reduced=as.formula('~ 1'))"
   ]
  },
  {
   "cell_type": "code",
   "execution_count": null,
   "id": "12c2cc78",
   "metadata": {},
   "outputs": [],
   "source": [
    "Wald_pval = rowData(dds)$WaldPvalue_group_CTRL_vs_CASE\n",
    "LRT_pval = rowData(dds_LRT)$LRTPvalue"
   ]
  },
  {
   "cell_type": "markdown",
   "id": "bffd964b",
   "metadata": {},
   "source": [
    "<font color='red'>**Q4: Plot the scatter plot of -log10 value between the Wald_pval and LRT_pval. What the difference did you see by comparing the p values between these two different tests? Write in report with attaching the figure. [3 marks]**</font>\n",
    "\n",
    "Hints: consider sensitivity and potential false positives"
   ]
  },
  {
   "cell_type": "code",
   "execution_count": null,
   "id": "50949e43",
   "metadata": {},
   "outputs": [],
   "source": [
    "# Q4 TODO: Plot the scatter plot: -log10(Wald_pval) vs -log10(LRT_pval), ideally with ggplot\n",
    "\n"
   ]
  },
  {
   "cell_type": "markdown",
   "id": "4a86a55a",
   "metadata": {},
   "source": [
    "### 3.3 Multiple factors\n",
    "\n",
    "The original column data"
   ]
  },
  {
   "cell_type": "code",
   "execution_count": null,
   "id": "dc7fc164",
   "metadata": {},
   "outputs": [],
   "source": [
    "col_data"
   ]
  },
  {
   "cell_type": "markdown",
   "id": "59c447e5",
   "metadata": {},
   "source": [
    "#### Additional factor\n",
    "As a hypothetical setting, we found out that the CASE_1, CASE_2 and CTRL_1, CTRL_2 are frozen samples for two weeks, and the rest are the fresh samples.\n",
    "\n",
    "Now we want to consider the variations that comes from this additional factor, and how it affects the differential expression between normal and cancer"
   ]
  },
  {
   "cell_type": "code",
   "execution_count": null,
   "id": "06a6fee2",
   "metadata": {},
   "outputs": [],
   "source": [
    "col_data_2f <- col_data\n",
    "col_data_2f$is_frozen <- c(1, 1, 0, 0, 0, 1, 1, 0, 0, 0)\n",
    "col_data_2f"
   ]
  },
  {
   "cell_type": "markdown",
   "id": "b88b6e6b",
   "metadata": {},
   "source": [
    "<font color='red'>**Q5.1: now write the script for DE analysis with additional covariate below using the defined designFormula [4 marks]**</font>"
   ]
  },
  {
   "cell_type": "code",
   "execution_count": null,
   "id": "0f7f9eee",
   "metadata": {},
   "outputs": [],
   "source": [
    "#define the design formula\n",
    "designFormula <- \"~ group + is_frozen\"\n",
    "\n",
    "# Q5.1a TODO: create a DESeq dataset object from the count matrix and the updated col_data_2f and  designFormula\n",
    "# ddsTwoFactor <- DESeqDataSetFromMatrix(PLEASE_FILL_HERE)\n"
   ]
  },
  {
   "cell_type": "code",
   "execution_count": null,
   "id": "98278d56",
   "metadata": {
    "lines_to_next_cell": 2
   },
   "outputs": [],
   "source": [
    "# Q5.1b: TODO: Remove unexpressed genes\n",
    "# ddsTwoFactor <- ddsTwoFactor[PLEASE_FILL_HERE]\n",
    "\n",
    "#print dds object to see the contents\n",
    "print(ddsTwoFactor)"
   ]
  },
  {
   "cell_type": "code",
   "execution_count": null,
   "id": "b82d0629",
   "metadata": {},
   "outputs": [],
   "source": [
    "# Q5.1c TODO: run DESeq with the defined object\n",
    "# ddsTwoFactor <- DESeq(PLEASE_FILL_HERE)\n"
   ]
  },
  {
   "cell_type": "code",
   "execution_count": null,
   "id": "916a1814",
   "metadata": {},
   "outputs": [],
   "source": [
    "# Q5.1d TODO: run DESeq with the defined object with likelhood ratio test\n",
    "# hint: set parameter reduced=as.formula('~ is_frozen') in nbinomLRT function\n",
    "\n",
    "# ddsTwoFactor_LRT <- nbinomLRT(PLEASE_FILL_HERE)\n"
   ]
  },
  {
   "cell_type": "code",
   "execution_count": null,
   "id": "b25ab334",
   "metadata": {
    "lines_to_next_cell": 2
   },
   "outputs": [],
   "source": [
    "# combine the pvalues into a data frame\n",
    "df <- data.frame(One_factor_pval = rowData(dds_LRT)$LRTPvalue,\n",
    "                 Two_factor_pval = rowData(ddsTwoFactor_LRT)$LRTPvalue)"
   ]
  },
  {
   "cell_type": "markdown",
   "id": "2d761133",
   "metadata": {},
   "source": [
    "<font color='red'>**Q5.2: Make a scatter plot between the -log10(One_factor_pval) and -log10(Two_factor_pval). What is the difference between p values when considering additional variable? What is the possible reason?  [2 marks]**</font>\n",
    "\n",
    "Hints: consider the source of the variations"
   ]
  },
  {
   "cell_type": "code",
   "execution_count": null,
   "id": "c05522e3",
   "metadata": {},
   "outputs": [],
   "source": [
    "# Q5.2 TODO: Plot the scatter plot: -log10(One_factor_pval), -log10(Two_factor_pval), ideally with ggplot\n",
    "\n"
   ]
  },
  {
   "cell_type": "markdown",
   "id": "79263ad5",
   "metadata": {},
   "source": [
    "## 4. Gene set analysis\n",
    "\n",
    "### Get DE genes"
   ]
  },
  {
   "cell_type": "code",
   "execution_count": null,
   "id": "517c589f",
   "metadata": {},
   "outputs": [],
   "source": [
    "#compute the contrast for the 'group' variable where 'CTRL' \n",
    "#samples are used as the control group. \n",
    "\n",
    "DE_res = results(dds_LRT, contrast = c(\"group\", 'CASE', 'CTRL'))\n",
    "\n",
    "#sort results by increasing p-value\n",
    "DE_res <- as.data.frame(DE_res[order(DE_res$pvalue), ])"
   ]
  },
  {
   "cell_type": "markdown",
   "id": "cb31c094",
   "metadata": {
    "lines_to_next_cell": 0
   },
   "source": [
    "<font color='red'>**Q6.1: Write script to select DE genes by using padj < 0.05 and abs(DE_genes$log2FoldChange) > 1  [1 marks]**</font>"
   ]
  },
  {
   "cell_type": "code",
   "execution_count": null,
   "id": "abe1ffcf",
   "metadata": {
    "lines_to_next_cell": 2
   },
   "outputs": [],
   "source": [
    "# remove genes with NA values \n",
    "DE_genes <- DE_res[!is.na(DE_res$padj), ]\n",
    "\n",
    "# Q6.1a TODO: select genes with adjusted p-values below 0.05\n",
    "# DE_genes <- DE_genes[PLEASE_FILL_HERE]\n",
    "\n",
    "# Q6.1b TODO: select genes with absolute log2 fold change above 1 (two-fold change)\n",
    "# DE_genes <- DE_genes[PLEASE_FILL_HERE]"
   ]
  },
  {
   "cell_type": "code",
   "execution_count": null,
   "id": "f582163f",
   "metadata": {},
   "outputs": [],
   "source": [
    "head(DE_genes)\n",
    "dim(DE_genes)"
   ]
  },
  {
   "cell_type": "markdown",
   "id": "53ac869f",
   "metadata": {},
   "source": [
    "### GO enrichment analysis\n",
    "\n",
    "In a typical differential expression analysis, thousands of genes are found differentially expressed between two groups of samples. Besides exploring individual gens, we can also calculate the overlap between DE genes and annotated gene sets for function association, e.g., Gene Ontology (GO) terms.\n",
    "\n",
    "You could copy the above DE genes into the web server, e.g., [GO website](http://geneontology.org) or [David web server](https://david.ncifcrf.gov/).\n",
    "\n",
    "Here, we show how to use R package `gProfileR` to perform this overlap enrichment analysis."
   ]
  },
  {
   "cell_type": "code",
   "execution_count": null,
   "id": "edfb42d0",
   "metadata": {},
   "outputs": [],
   "source": [
    "# Only need install once\n",
    "if (!requireNamespace(\"gProfileR\", quietly = TRUE))\n",
    "    install.packages(\"gProfileR\")"
   ]
  },
  {
   "cell_type": "code",
   "execution_count": null,
   "id": "2af9c943",
   "metadata": {},
   "outputs": [],
   "source": [
    "library(gProfileR)"
   ]
  },
  {
   "cell_type": "code",
   "execution_count": null,
   "id": "5924bc64",
   "metadata": {},
   "outputs": [],
   "source": [
    "#get the list of genes of interest\n",
    "genesOfInterest <- rownames(DE_genes)\n",
    "\n",
    "#calculate enriched GO terms\n",
    "goResults <- gprofiler(query = genesOfInterest, \n",
    "                       organism = 'hsapiens', \n",
    "                       src_filter = 'GO', \n",
    "                       hier_filtering = 'moderate')"
   ]
  },
  {
   "cell_type": "markdown",
   "id": "06de928b",
   "metadata": {},
   "source": [
    "<font color='red'>**Q6.2: Interpret the GO enriched terms and discuss its potential relevance to the cancer mechanism in the report  [2 marks]**</font>"
   ]
  },
  {
   "cell_type": "code",
   "execution_count": null,
   "id": "c5ac9fc6",
   "metadata": {
    "lines_to_next_cell": 0
   },
   "outputs": [],
   "source": [
    "col_show <- c('p.value', 'term.size', 'query.size', 'overlap.size', 'term.name')\n",
    "head(goResults[order(goResults$p.value), col_show], 10)"
   ]
  },
  {
   "cell_type": "markdown",
   "id": "0360ac9b",
   "metadata": {},
   "source": [
    "\n"
   ]
  },
  {
   "cell_type": "code",
   "execution_count": null,
   "id": "c4c90bf4",
   "metadata": {},
   "outputs": [],
   "source": [
    "sessionInfo()"
   ]
  }
 ],
 "metadata": {
    "colab": {
   "name": "Assignment1-BBMS3009.ipynb",
   "provenance": []
  },
  "kernelspec": {
   "display_name": "R",
   "language": "R",
   "name": "ir"
  },
  "language_info": {
   "codemirror_mode": "r",
   "file_extension": ".r",
   "mimetype": "text/x-r-source",
   "name": "R",
   "pygments_lexer": "r",
   "version": "4.2.0"
  }
 },
 "nbformat": 4,
 "nbformat_minor": 5
}
